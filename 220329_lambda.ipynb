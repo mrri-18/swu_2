{
  "nbformat": 4,
  "nbformat_minor": 0,
  "metadata": {
    "colab": {
      "name": "220329_lambda.ipynb",
      "provenance": [],
      "collapsed_sections": [],
      "authorship_tag": "ABX9TyOiemBBiVRvOr73hZAOyN4G",
      "include_colab_link": true
    },
    "kernelspec": {
      "name": "python3",
      "display_name": "Python 3"
    },
    "language_info": {
      "name": "python"
    }
  },
  "cells": [
    {
      "cell_type": "markdown",
      "metadata": {
        "id": "view-in-github",
        "colab_type": "text"
      },
      "source": [
        "<a href=\"https://colab.research.google.com/github/mrri-18/swu_2/blob/main/220329_lambda.ipynb\" target=\"_parent\"><img src=\"https://colab.research.google.com/assets/colab-badge.svg\" alt=\"Open In Colab\"/></a>"
      ]
    },
    {
      "cell_type": "code",
      "execution_count": null,
      "metadata": {
        "id": "YI_9McAmrOG5"
      },
      "outputs": [],
      "source": [
        "#default parameter\n",
        "def print_name(name, count=2):\n",
        "  for i in range(count):\n",
        "    print(\"name= \",name)\n",
        "print_name(\"Dave\",5)"
      ]
    },
    {
      "cell_type": "code",
      "source": [
        "#mutable/immutable parameter\n",
        "def mutable_immutable(int_x, input_list):\n",
        "  int_x+=1\n",
        "  input_list.append(100)\n",
        "\n",
        "x=1\n",
        "test_list=[1,2,3]\n",
        "mutable_immutable(x, test_list)\n",
        "print(x,test_list)\n"
      ],
      "metadata": {
        "id": "13XM-fZtttsY"
      },
      "execution_count": null,
      "outputs": []
    },
    {
      "cell_type": "code",
      "source": [
        "#lambda\n",
        "f=lambda x: x+100  # x를 입력으로 받아 x+100으로 대체된다. \n",
        "for i in range(3):\n",
        "  print(f(i))"
      ],
      "metadata": {
        "colab": {
          "base_uri": "https://localhost:8080/"
        },
        "id": "7RKbpv-uudn6",
        "outputId": "79869c1e-8dcc-4854-d782-0a0b395776db"
      },
      "execution_count": 4,
      "outputs": [
        {
          "output_type": "stream",
          "name": "stdout",
          "text": [
            "100\n",
            "101\n",
            "102\n"
          ]
        }
      ]
    },
    {
      "cell_type": "code",
      "source": [
        "def print_hello():\n",
        "  print(\"hello python\")\n",
        "def test_lambda(s,t):\n",
        "  print(\"input1 == \",s, \"input2== \",t )\n",
        "s=100\n",
        "t=100\n",
        "\n",
        "fx= lambda x,y : test_lambda(s,t)\n",
        "fy=lambda x,y:print_hello()\n",
        "\n",
        "fx(500, 1000)  #fx(x, y)=test_lambda(s,t), 매개변수가 달라서 그 값이 출력x\n",
        "fy(300,600)  #fy(x,y)=print_hello()"
      ],
      "metadata": {
        "colab": {
          "base_uri": "https://localhost:8080/"
        },
        "id": "rTPATI_Jxkpu",
        "outputId": "38862774-dd3b-4b26-d4b4-f9eed189030e"
      },
      "execution_count": 5,
      "outputs": [
        {
          "output_type": "stream",
          "name": "stdout",
          "text": [
            "input1 ==  100 input2==  100\n",
            "hello python\n"
          ]
        }
      ]
    }
  ]
}