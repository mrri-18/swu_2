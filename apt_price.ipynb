{
  "nbformat": 4,
  "nbformat_minor": 0,
  "metadata": {
    "colab": {
      "provenance": [],
      "mount_file_id": "13esMqfVD8U8_vjY3hpxJoSITi9MYLY1A",
      "authorship_tag": "ABX9TyM/3Yt8UO8nXkqHD9Uc9mhp",
      "include_colab_link": true
    },
    "kernelspec": {
      "name": "python3",
      "display_name": "Python 3"
    },
    "language_info": {
      "name": "python"
    }
  },
  "cells": [
    {
      "cell_type": "markdown",
      "metadata": {
        "id": "view-in-github",
        "colab_type": "text"
      },
      "source": [
        "<a href=\"https://colab.research.google.com/github/mrri-18/swu_2/blob/main/apt_price.ipynb\" target=\"_parent\"><img src=\"https://colab.research.google.com/assets/colab-badge.svg\" alt=\"Open In Colab\"/></a>"
      ]
    },
    {
      "cell_type": "code",
      "execution_count": 32,
      "metadata": {
        "colab": {
          "base_uri": "https://localhost:8080/"
        },
        "id": "h1zGRUD_KyAB",
        "outputId": "4aa21c17-298d-4e02-fcb5-b9c06580b69a"
      },
      "outputs": [
        {
          "output_type": "stream",
          "name": "stdout",
          "text": [
            "시군구 단지명 거래금액(만원)\n",
            "강원도 강릉시 견소동 송정한신 26000.0\n",
            "강원도 강릉시 견소동 송정한신 16500.0\n",
            "강원도 강릉시 견소동 송정해변신도브래뉴아파트 28500.0\n",
            "강원도 강릉시 견소동 송정해변신도브래뉴아파트 36000.0\n",
            "강원도 강릉시 견소동 송정해변신도브래뉴아파트 27000.0\n"
          ]
        }
      ],
      "source": [
        "import usecsv, re, os #만들어놓은 모듈 불러오기\n",
        "\n",
        "apt=usecsv.switch(usecsv.opencsv('apt_2.csv')) #문자열->실수 변환\n",
        "apt[0]\n",
        "for i in apt[:6]:\n",
        "  print(i[0], i[4], i[8])"
      ]
    },
    {
      "cell_type": "code",
      "source": [
        "new_list=[]\n",
        "for i in apt:\n",
        "  try:\n",
        "    if i[5]>=120 and i[8]<=30000 and re.match('강원', i[0]): #평수, 가격, 위치 조건 설정\n",
        "      new_list.append([i[0], i[4], i[8]])                                            \n",
        "  except:\n",
        "    pass\n",
        "usecsv.writecsv('new_apt.csv', new_list) #새로운 csv파일 만들기\n",
        "new_list"
      ],
      "metadata": {
        "colab": {
          "base_uri": "https://localhost:8080/"
        },
        "id": "J39gPUCvXKT6",
        "outputId": "a77a104a-0174-433a-9afe-00b98d9d4e5d"
      },
      "execution_count": 31,
      "outputs": [
        {
          "output_type": "execute_result",
          "data": {
            "text/plain": [
              "[['강원도 속초시 금호동', '보람레이크더하임', 26000.0],\n",
              " ['강원도 원주시 명륜동', '동보렉스9차', 24000.0],\n",
              " ['강원도 원주시 문막읍 건등리', '서원주코아루아너스', 29000.0],\n",
              " ['강원도 춘천시 석사동', '석사극동', 19000.0],\n",
              " ['강원도 춘천시 퇴계동', '그린타운삼익코오롱', 25700.0],\n",
              " ['강원도 춘천시 후평동', '동아', 24500.0]]"
            ]
          },
          "metadata": {},
          "execution_count": 31
        }
      ]
    }
  ]
}