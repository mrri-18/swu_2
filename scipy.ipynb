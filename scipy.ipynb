{
  "nbformat": 4,
  "nbformat_minor": 0,
  "metadata": {
    "colab": {
      "provenance": [],
      "collapsed_sections": [],
      "authorship_tag": "ABX9TyOB2Qtjt6wRz7HpmhM+/tJZ",
      "include_colab_link": true
    },
    "kernelspec": {
      "name": "python3",
      "display_name": "Python 3"
    },
    "language_info": {
      "name": "python"
    }
  },
  "cells": [
    {
      "cell_type": "markdown",
      "metadata": {
        "id": "view-in-github",
        "colab_type": "text"
      },
      "source": [
        "<a href=\"https://colab.research.google.com/github/mrri-18/swu_2/blob/main/scipy.ipynb\" target=\"_parent\"><img src=\"https://colab.research.google.com/assets/colab-badge.svg\" alt=\"Open In Colab\"/></a>"
      ]
    },
    {
      "cell_type": "code",
      "execution_count": 4,
      "metadata": {
        "colab": {
          "base_uri": "https://localhost:8080/"
        },
        "id": "4v_YmTbWpIN1",
        "outputId": "d4db8101-3054-4315-ebc2-78de84c438b2"
      },
      "outputs": [
        {
          "output_type": "stream",
          "name": "stdout",
          "text": [
            "NumPy array: \n",
            " [[1. 0. 0. 0.]\n",
            " [0. 1. 0. 0.]\n",
            " [0. 0. 1. 0.]\n",
            " [0. 0. 0. 1.]]\n"
          ]
        }
      ],
      "source": [
        "import numpy as np\n",
        "from scipy import sparse\n",
        "\n",
        "eye=np.eye(4)\n",
        "print(\"NumPy array: \\n\",eye)\n"
      ]
    },
    {
      "cell_type": "code",
      "source": [
        "sparse_matrix=sparse.csr_matrix(eye) #sparse=희소 행렬 기능 제공\n",
        "print(\"\\n CSR 행렬:\\n\", sparse_matrix)"
      ],
      "metadata": {
        "id": "9ukokJVtqMKW",
        "colab": {
          "base_uri": "https://localhost:8080/"
        },
        "outputId": "6eaa4c0c-d4a5-4261-841e-da9fb7de214e"
      },
      "execution_count": 5,
      "outputs": [
        {
          "output_type": "stream",
          "name": "stdout",
          "text": [
            "\n",
            " CSR 행렬:\n",
            "   (0, 0)\t1.0\n",
            "  (1, 1)\t1.0\n",
            "  (2, 2)\t1.0\n",
            "  (3, 3)\t1.0\n"
          ]
        }
      ]
    },
    {
      "cell_type": "code",
      "source": [
        "data=np.ones(4) #희소 행렬을 직접 만드는 것 onse함수: 1로 가득찬 배열 생성\n",
        "row_indices=np.arange(4) #[0,1,2,3]\n",
        "col_indices=np.arange(4) #[0,1,2,3]\n",
        "eye_coo=sparse.coo_matrix((data, (row_indices, col_indices))) #이 좌표에만 값 1이 저장됨\n",
        "print(\"COO 표현:\\n\", eye_coo)"
      ],
      "metadata": {
        "colab": {
          "base_uri": "https://localhost:8080/"
        },
        "id": "OT-BR8SQG61P",
        "outputId": "9cc87014-b61d-4bd9-c14e-214fdbcb90b1"
      },
      "execution_count": 10,
      "outputs": [
        {
          "output_type": "stream",
          "name": "stdout",
          "text": [
            "COO 표현:\n",
            "   (0, 0)\t1.0\n",
            "  (1, 1)\t1.0\n",
            "  (2, 2)\t1.0\n",
            "  (3, 3)\t1.0\n"
          ]
        }
      ]
    }
  ]
}