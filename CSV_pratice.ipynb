{
  "nbformat": 4,
  "nbformat_minor": 0,
  "metadata": {
    "colab": {
      "provenance": [],
      "authorship_tag": "ABX9TyMPYcBfIUeT1fLXhkio3gxP",
      "include_colab_link": true
    },
    "kernelspec": {
      "name": "python3",
      "display_name": "Python 3"
    },
    "language_info": {
      "name": "python"
    }
  },
  "cells": [
    {
      "cell_type": "markdown",
      "metadata": {
        "id": "view-in-github",
        "colab_type": "text"
      },
      "source": [
        "<a href=\"https://colab.research.google.com/github/mrri-18/swu_2/blob/main/CSV_pratice.ipynb\" target=\"_parent\"><img src=\"https://colab.research.google.com/assets/colab-badge.svg\" alt=\"Open In Colab\"/></a>"
      ]
    },
    {
      "cell_type": "code",
      "execution_count": null,
      "metadata": {
        "id": "Ho6YZRIr1oj1"
      },
      "outputs": [],
      "source": [
        "import csv,os\n",
        "os.getcwd()\n",
        "f=open('a.csv', 'r', encoding='cp949')  #한글 인코딩\n"
      ]
    },
    {
      "cell_type": "code",
      "source": [
        "new=csv.reader(f)\n",
        "for i in new:\n",
        "  print(i)"
      ],
      "metadata": {
        "colab": {
          "base_uri": "https://localhost:8080/"
        },
        "id": "8C3a_8XA7dmc",
        "outputId": "13578c35-39e6-466e-8bd2-b4d9af296e5b"
      },
      "execution_count": null,
      "outputs": [
        {
          "output_type": "stream",
          "name": "stdout",
          "text": [
            "['국어', '영어', '수학']\n",
            "['85', '90', '100']\n"
          ]
        }
      ]
    },
    {
      "cell_type": "code",
      "source": [
        "a_list=[] #임의의 리스트 생성\n",
        "f.seek(0)\n",
        "for i in new:\n",
        "  print(i)\n",
        "  a_list.append(i) #행단위로 저장\n",
        "\n",
        "a_list\n"
      ],
      "metadata": {
        "colab": {
          "base_uri": "https://localhost:8080/"
        },
        "id": "t7-deQTl8H4o",
        "outputId": "75396d40-09ff-4c94-e3ee-0248ba94b81c"
      },
      "execution_count": null,
      "outputs": [
        {
          "output_type": "stream",
          "name": "stdout",
          "text": [
            "['국어', '영어', '수학']\n",
            "['85', '90', '100']\n"
          ]
        },
        {
          "output_type": "execute_result",
          "data": {
            "text/plain": [
              "[['국어', '영어', '수학'], ['85', '90', '100']]"
            ]
          },
          "metadata": {},
          "execution_count": 31
        }
      ]
    },
    {
      "cell_type": "code",
      "source": [
        "def opencsv(filename): #파일 읽어주는 함수\n",
        "  f=open(filename,'r', encoding='cp949' )\n",
        "  reader=csv.reader(f)\n",
        "  output=[]\n",
        "  for i in reader:\n",
        "    output.append(i)\n",
        "  return output"
      ],
      "metadata": {
        "id": "b0MJo6x4-T3Z"
      },
      "execution_count": null,
      "outputs": []
    },
    {
      "cell_type": "code",
      "source": [
        "opencsv('example2.csv')"
      ],
      "metadata": {
        "colab": {
          "base_uri": "https://localhost:8080/"
        },
        "id": "IB6Xwf0_-T2B",
        "outputId": "8c8e522d-e81d-4a92-a555-0a6443b889ad"
      },
      "execution_count": null,
      "outputs": [
        {
          "output_type": "execute_result",
          "data": {
            "text/plain": [
              "[['이름 ', '영어', '수학 ', '국어'],\n",
              " ['흐림 ', '80', '90', '71'],\n",
              " ['맑음', '84', '73', '81'],\n",
              " ['비', '100', '79', '90']]"
            ]
          },
          "metadata": {},
          "execution_count": 33
        }
      ]
    },
    {
      "cell_type": "code",
      "source": [
        "import csv, os, re\n",
        "def writecsv(filename, the_list):\n",
        "  with open(filename,'w',newline='')as f: \n",
        "    a=csv.writer(f, delimiter=',') #','로 데이터 구분\n",
        "    a.writerows(the_list)#csv형 리스트 저장\n",
        "\n",
        "a=[['국어','영어','수학'],[84,82,92]]\n",
        "writecsv('test.csv',a)\n"
      ],
      "metadata": {
        "id": "DBJhSKIy5z8g"
      },
      "execution_count": 2,
      "outputs": []
    },
    {
      "cell_type": "code",
      "source": [
        "import sys \n",
        "sys.path.append('/content')\n",
        "print(sys.path)\n",
        "\n"
      ],
      "metadata": {
        "colab": {
          "base_uri": "https://localhost:8080/"
        },
        "id": "FGiBTsTm9lE3",
        "outputId": "6f509706-947b-46ee-fc28-a1f42d0b5785"
      },
      "execution_count": 4,
      "outputs": [
        {
          "output_type": "stream",
          "name": "stdout",
          "text": [
            "['/content', '/env/python', '/usr/lib/python37.zip', '/usr/lib/python3.7', '/usr/lib/python3.7/lib-dynload', '', '/usr/local/lib/python3.7/dist-packages', '/usr/lib/python3/dist-packages', '/usr/local/lib/python3.7/dist-packages/IPython/extensions', '/root/.ipython', '/content']\n"
          ]
        }
      ]
    },
    {
      "cell_type": "code",
      "source": [
        "import usecsv, re\n",
        "total=usecsv.opencsv('popSeoul.csv')\n",
        "\n",
        "for i in total:\n",
        "  for j in i:\n",
        "    try:\n",
        "      i[i.index(j)]=float(re.sub(',', '', j)) #행에서 숫자만 float형으로 변환, 쉼표 제거\n",
        "    except:\n",
        "      pass\n",
        "total"
      ],
      "metadata": {
        "colab": {
          "base_uri": "https://localhost:8080/"
        },
        "id": "63CUNtsD_4ll",
        "outputId": "9e413c55-01c6-4cee-a8ed-e94a5644465e"
      },
      "execution_count": 11,
      "outputs": [
        {
          "output_type": "execute_result",
          "data": {
            "text/plain": [
              "[['Gu', 'Korean', 'Foreigner', 'Senior'],\n",
              " ['Total', 9740398.0, 285529.0, 1468146.0],\n",
              " ['Jongrogu', 151767.0, 11093.0, 27394.0],\n",
              " ['Jongru', 126409.0, 10254.0, 23025.0],\n",
              " ['Yongsangu', 228830.0, 16159.0, 38531.0],\n",
              " ['Seongdonggu', 303158.0, 8132.0, 43662.0],\n",
              " ['Kwangjingu', 352692.0, 15645.0, 47347.0],\n",
              " ['Dongdaemoongu', 346551.0, 17228.0, 58764.0],\n",
              " ['Jungranggu', 398812.0, 4964.0, 64449.0],\n",
              " ['Seongbukgu', 441590.0, 12524.0, 70204.0],\n",
              " ['Gangbukgu', 314090.0, 3785.0, 59808.0],\n",
              " ['Dobonggu', 335280.0, 2314.0, 58070.0],\n",
              " ['Nowonggu', 535282.0, 4547.0, 79968.0],\n",
              " ['Eunpyonggu', 481663.0, 4496.0, 79957.0],\n",
              " ['Seodaemungu', 310069.0, 14020.0, 51708.0],\n",
              " ['Mapogu', 373629.0, 11976.0, 51961.0],\n",
              " ['Yangcheongu', 459849.0, 4082.0, 60487.0],\n",
              " ['Gangseogu', 593708.0, 6532.0, 82937.0],\n",
              " ['Gurogu', 406748.0, 33102.0, 64952.0],\n",
              " ['Guemcheongu', 233371.0, 19497.0, 37191.0],\n",
              " ['Youngdeungpogu', 368402.0, 34076.0, 57350.0],\n",
              " ['Dongjakgu', 397618.0, 12869.0, 61607.0],\n",
              " ['Kwanakgu', 502117.0, 17836.0, 74518.0],\n",
              " ['Seoucheogu', 431027.0, 4231.0, 56455.0],\n",
              " ['Gangnamgu', 544028.0, 5015.0, 70029.0],\n",
              " ['Songpagu', 677489.0, 6849.0, 86062.0],\n",
              " ['Gangdonggu', 426219.0, 4303.0, 61710.0]]"
            ]
          },
          "metadata": {},
          "execution_count": 11
        }
      ]
    }
  ]
}