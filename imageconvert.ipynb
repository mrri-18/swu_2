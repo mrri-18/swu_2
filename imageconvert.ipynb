{
  "nbformat": 4,
  "nbformat_minor": 0,
  "metadata": {
    "colab": {
      "provenance": [],
      "authorship_tag": "ABX9TyOaZjH5B0i5+f+7c8Zg5PX+",
      "include_colab_link": true
    },
    "kernelspec": {
      "name": "python3",
      "display_name": "Python 3"
    },
    "language_info": {
      "name": "python"
    }
  },
  "cells": [
    {
      "cell_type": "markdown",
      "metadata": {
        "id": "view-in-github",
        "colab_type": "text"
      },
      "source": [
        "<a href=\"https://colab.research.google.com/github/mrri-18/swu_2/blob/main/imageconvert.ipynb\" target=\"_parent\"><img src=\"https://colab.research.google.com/assets/colab-badge.svg\" alt=\"Open In Colab\"/></a>"
      ]
    },
    {
      "cell_type": "code",
      "execution_count": 1,
      "metadata": {
        "id": "UiqdcurOIfQ6"
      },
      "outputs": [],
      "source": [
        "#바이너리 파일 생성 \n",
        "import sys\n",
        "import os.path\n",
        "import struct\n",
        "\n",
        "if len(sys.argv) is 1:\n",
        "\tout_filename = raw_input('Please type output file name: ') # There is no option.\n",
        "else:\n",
        "\tout_filename = sys.argv[1]\n",
        "\t\n",
        "#byteBuffer = bytearray([1,0,0,0,255,255,0,0])\n",
        "byteBuffer = struct.pack('hhhh',1,0,-1,0)\n",
        "\n",
        "out_file = open(out_filename, 'wb')\n",
        "for x in range(0,4000):\n",
        "\tout_file.write(byteBuffer)\n",
        "out_file.close()\n",
        "\n",
        "exit(0)"
      ]
    },
    {
      "cell_type": "code",
      "source": [
        "#바이너리 파일 이미지화 \n",
        "import os, sys\n",
        "from PIL import Image\n",
        "\n",
        "def getBinaryData(filename):\n",
        "  binaryValues=[]\n",
        "  file=open(filename, \"rb\")\n",
        "  data=file.read(1)\n",
        "  while data !=b\"\":\n",
        "    try:\n",
        "      binaryValues.append(ord(data))\n",
        "    except TypeError:\n",
        "      pass\n",
        "    data=file.read(1)\n",
        "\n",
        "  return binaryValues\n",
        "\n",
        "def creatGreyScaleImageSpecific(dataSet, outputfilename, width=0):\n",
        "  if(width==0):\n",
        "    size=len(dataSet)\n",
        "  width=256\n",
        "  height=256\n",
        "  image=Image.new('L', (width, height))\n",
        "  image.putdata(dataSet)\n",
        "  imagename=outputfilename+\".png\"\n",
        "  image.save(imagename)\n",
        "  image.show()\n",
        "  print(imagename+\" Greyscle image created\")\n",
        "\n",
        "if __name==\"__main__\":\n",
        "  file_full_path=sys.argc[1]\n",
        "  path=os.path.dirname(file_full_path)\n",
        "  base_name=os.path.splitext(os.path.basename(file_full_path))[0]\n",
        "  outputfilename=os.path.join(path, base_name)\n",
        "  binaryData=getBinaryData(file_full_path)\n",
        "  creatGreyScaleImageSpecific(binaryData, outputfilename)"
      ],
      "metadata": {
        "id": "0OMHGauWKaY9"
      },
      "execution_count": null,
      "outputs": []
    },
    {
      "cell_type": "code",
      "source": [
        "!bash"
      ],
      "metadata": {
        "colab": {
          "base_uri": "https://localhost:8080/"
        },
        "id": "6Qm_bHY-PVnz",
        "outputId": "65d83803-a426-46da-dae4-12120e6fce21"
      },
      "execution_count": 1,
      "outputs": [
        {
          "output_type": "stream",
          "name": "stdout",
          "text": [
            "bash: cannot set terminal process group (153): Inappropriate ioctl for device\n",
            "bash: no job control in this shell\n",
            "\u001b[01;34m/content\u001b[00m# image.py /content/-f\n",
            "bash: image.py: command not found\n",
            "\u001b[01;34m/content\u001b[00m# python image.py /content/-f\n",
            "/content/-f.png Greyscle image created\n",
            "\u001b[01;34m/content\u001b[00m# \n",
            "\n",
            "\u001b[01;34m/content\u001b[00m# \n",
            "\u001b[01;34m/content\u001b[00m# ^C\n"
          ]
        }
      ]
    }
  ]
}