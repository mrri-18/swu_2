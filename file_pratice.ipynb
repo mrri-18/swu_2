{
  "nbformat": 4,
  "nbformat_minor": 0,
  "metadata": {
    "colab": {
      "provenance": [],
      "collapsed_sections": [],
      "authorship_tag": "ABX9TyMh+4rfU4DaQHszI+n6TYW1",
      "include_colab_link": true
    },
    "kernelspec": {
      "name": "python3",
      "display_name": "Python 3"
    },
    "language_info": {
      "name": "python"
    }
  },
  "cells": [
    {
      "cell_type": "markdown",
      "metadata": {
        "id": "view-in-github",
        "colab_type": "text"
      },
      "source": [
        "<a href=\"https://colab.research.google.com/github/mrri-18/swu_2/blob/main/file_pratice.ipynb\" target=\"_parent\"><img src=\"https://colab.research.google.com/assets/colab-badge.svg\" alt=\"Open In Colab\"/></a>"
      ]
    },
    {
      "cell_type": "code",
      "execution_count": 2,
      "metadata": {
        "colab": {
          "base_uri": "https://localhost:8080/",
          "height": 35
        },
        "id": "GsIVnsszq-OI",
        "outputId": "6549159f-2065-4fdd-ff0b-baa704454176"
      },
      "outputs": [
        {
          "output_type": "execute_result",
          "data": {
            "text/plain": [
              "'life'"
            ],
            "application/vnd.google.colaboratory.intrinsic+json": {
              "type": "string"
            }
          },
          "metadata": {},
          "execution_count": 2
        }
      ],
      "source": [
        "import os, re\n",
        "pattern=r'life'\n",
        "script='life'\n",
        "\n",
        "re.match(pattern,script) #script에 pattern이 있는지 검사\n",
        "re.match(pattern,script).group()#매치된 내용 반환"
      ]
    },
    {
      "cell_type": "code",
      "source": [
        "def refinder(pattern, script):\n",
        "  if re.match(pattern, script): #단, 매치함수는 소/대문자는 구별됨\n",
        "    print(\"Match!\")\n",
        "  else:\n",
        "    print(\"Unmatch!\")\n",
        "\n",
        "refinder(pattern, script)"
      ],
      "metadata": {
        "colab": {
          "base_uri": "https://localhost:8080/"
        },
        "id": "iBUVGz1TYhq7",
        "outputId": "61d39619-1c9a-4877-d9a5-b3e1fa90580f"
      },
      "execution_count": 3,
      "outputs": [
        {
          "output_type": "stream",
          "name": "stdout",
          "text": [
            "Match!\n"
          ]
        }
      ]
    },
    {
      "cell_type": "code",
      "source": [
        "pattern=r'is'\n",
        "script='Life is so cool'\n",
        "refinder(pattern, script) #텍스트 중간에 있는 문자열은 찾지못함 \n",
        "\n",
        "re.search(pattern, script).group() #문장 중간 is를 찾을 수 있음, match함수와 차이점"
      ],
      "metadata": {
        "colab": {
          "base_uri": "https://localhost:8080/",
          "height": 53
        },
        "id": "DwRNQPMiZWSo",
        "outputId": "48749da3-ea0a-4b12-bab7-f3099fabdb3c"
      },
      "execution_count": 4,
      "outputs": [
        {
          "output_type": "stream",
          "name": "stdout",
          "text": [
            "Unmatch!\n"
          ]
        },
        {
          "output_type": "execute_result",
          "data": {
            "text/plain": [
              "'is'"
            ],
            "application/vnd.google.colaboratory.intrinsic+json": {
              "type": "string"
            }
          },
          "metadata": {},
          "execution_count": 4
        }
      ]
    },
    {
      "cell_type": "code",
      "source": [
        "number='My number is 511938-1******* and yours is 389012-2*******'\n",
        "re.findall('\\d{6}',number) #findall메서드 결과값->리스트로 도출, 6자리 숫자가 반복\n",
        "\n"
      ],
      "metadata": {
        "colab": {
          "base_uri": "https://localhost:8080/"
        },
        "id": "2VL3Whi5E_Gn",
        "outputId": "25dbc976-ffdb-47fc-f87e-d5cc7375f0e6"
      },
      "execution_count": 5,
      "outputs": [
        {
          "output_type": "execute_result",
          "data": {
            "text/plain": [
              "['511938', '389012']"
            ]
          },
          "metadata": {},
          "execution_count": 5
        }
      ]
    },
    {
      "cell_type": "code",
      "source": [
        "sentence=\"I love a lovely dog, really. I am not telling a lie. \"\n",
        "re.findall(r'\\w+ly',sentence) #ly로 끝나는 단어만 추출"
      ],
      "metadata": {
        "colab": {
          "base_uri": "https://localhost:8080/"
        },
        "id": "iCFPl48fGidm",
        "outputId": "f92b39e5-7c61-45ab-87c5-1cffc7db7a0b"
      },
      "execution_count": 6,
      "outputs": [
        {
          "output_type": "execute_result",
          "data": {
            "text/plain": [
              "['lovely', 'really']"
            ]
          },
          "metadata": {},
          "execution_count": 6
        }
      ]
    },
    {
      "cell_type": "code",
      "source": [
        "example= \"이동민 교수는 다음과 같이 설명했습니다(이동민,2019). 그런데 다른 학자는 이에 대해서 다른 견해를 가지고 있었습니다(최재영, 2019). 또 다른 견해도 있었습니다(Lion, 2019)\"\n",
        "\n",
        "result=re. findall(r'\\(.+?\\)',example)  #?때문에 )기호를 찾으면 패턴 찾기를 멈춤\n",
        "print(result)"
      ],
      "metadata": {
        "id": "h09zh9Z-G39G",
        "colab": {
          "base_uri": "https://localhost:8080/"
        },
        "outputId": "f67685fd-bd38-44cd-aff4-03564f6a5f92"
      },
      "execution_count": 9,
      "outputs": [
        {
          "output_type": "stream",
          "name": "stdout",
          "text": [
            "['(이동민,2019)', '(최재영, 2019)', '(Lion, 2019)']\n"
          ]
        }
      ]
    },
    {
      "cell_type": "code",
      "source": [
        "sentence=\"a:3; b:4; c:5\"\n",
        "for i in re.split(r';', sentence): ##split method, 문장을 나눔 \n",
        "  print(re.split(r':', i))"
      ],
      "metadata": {
        "colab": {
          "base_uri": "https://localhost:8080/"
        },
        "id": "mWUZvVF7hXzE",
        "outputId": "bd924a8d-4bed-4b30-cf1a-c2e66772d8ff"
      },
      "execution_count": 13,
      "outputs": [
        {
          "output_type": "stream",
          "name": "stdout",
          "text": [
            "['a', '3']\n",
            "[' b', '4']\n",
            "[' c', '5']\n"
          ]
        }
      ]
    }
  ]
}