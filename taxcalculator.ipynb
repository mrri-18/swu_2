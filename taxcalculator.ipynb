{
  "nbformat": 4,
  "nbformat_minor": 0,
  "metadata": {
    "colab": {
      "provenance": [],
      "authorship_tag": "ABX9TyN1036SQr2O3v1hQ9Pna8oJ",
      "include_colab_link": true
    },
    "kernelspec": {
      "name": "python3",
      "display_name": "Python 3"
    },
    "language_info": {
      "name": "python"
    }
  },
  "cells": [
    {
      "cell_type": "markdown",
      "metadata": {
        "id": "view-in-github",
        "colab_type": "text"
      },
      "source": [
        "<a href=\"https://colab.research.google.com/github/mrri-18/swu_2/blob/main/taxcalculator.ipynb\" target=\"_parent\"><img src=\"https://colab.research.google.com/assets/colab-badge.svg\" alt=\"Open In Colab\"/></a>"
      ]
    },
    {
      "cell_type": "code",
      "execution_count": null,
      "metadata": {
        "id": "av4FDnuKYM2r"
      },
      "outputs": [],
      "source": [
        "    price=[23, 40, 67]  #서비스 금액 리스트\n",
        "def tax_price():\n",
        "  service=int(input(\"서비스의 번호를 입력하세요: 1/2/3 \"))\n",
        "  value=input(\"부가세를 포함합니까? y/n\")\n",
        "  total_price=price[service-1] #인덱스 인풋으로 가격 저장\n",
        "\n",
        "  if(value=='y'):\n",
        "    total_price=total_price*1.1 #부가세까지 포함된 가격 계산\n",
        "  print(\"서비스 총 금액은 \",(total_price*10000),\"원 입니다.\") #최종 가격 출력\n"
      ]
    },
    {
      "cell_type": "code",
      "source": [
        "for i in price: //총 서비스 금액 출력\n",
        "  print(i)\n",
        "tax_price() #함수 호출"
      ],
      "metadata": {
        "colab": {
          "base_uri": "https://localhost:8080/"
        },
        "id": "7M1a9b_8c7NU",
        "outputId": "ddbee920-8819-4ba3-d9a0-e89618dfaaef"
      },
      "execution_count": null,
      "outputs": [
        {
          "output_type": "stream",
          "name": "stdout",
          "text": [
            "23\n",
            "40\n",
            "67\n",
            "서비스의 번호를 입력하세요: 1/2/32\n",
            "부가세를 포함합니까? y/ny\n",
            "서비스 총 금액은  440000.0 원 입니다.\n"
          ]
        }
      ]
    }
  ]
}