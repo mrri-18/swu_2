{
  "nbformat": 4,
  "nbformat_minor": 0,
  "metadata": {
    "colab": {
      "name": "20220404_class.ipynb",
      "provenance": [],
      "collapsed_sections": [],
      "authorship_tag": "ABX9TyMtQGRGiWESrMV8atE0th1q",
      "include_colab_link": true
    },
    "kernelspec": {
      "name": "python3",
      "display_name": "Python 3"
    },
    "language_info": {
      "name": "python"
    }
  },
  "cells": [
    {
      "cell_type": "markdown",
      "metadata": {
        "id": "view-in-github",
        "colab_type": "text"
      },
      "source": [
        "<a href=\"https://colab.research.google.com/github/mrri-18/swu_2/blob/main/20220404_class.ipynb\" target=\"_parent\"><img src=\"https://colab.research.google.com/assets/colab-badge.svg\" alt=\"Open In Colab\"/></a>"
      ]
    },
    {
      "cell_type": "code",
      "execution_count": 6,
      "metadata": {
        "colab": {
          "base_uri": "https://localhost:8080/"
        },
        "id": "R9guNoeVs5QI",
        "outputId": "0eda33b3-148a-4cf9-89d3-baa9a43d6205"
      },
      "outputs": [
        {
          "output_type": "stream",
          "name": "stdout",
          "text": [
            "Park is initialized\n",
            "Kim is initialized\n",
            "Parkis working in abc\n",
            "Kim is sleeping\n",
            "Current obj names are Park, Kim\n",
            "2\n"
          ]
        }
      ],
      "source": [
        "class Person:\n",
        "  count = 0\n",
        "  def __init__(self, name):\n",
        "    self.name=name\n",
        "    Person.count+=1\n",
        "    print(self.name+\" is initialized\")\n",
        "  def work(self, company):\n",
        "    print(self.name+\"is working in \"+company)\n",
        "  def sleep(self):\n",
        "    print(self.name+\" is sleeping\")\n",
        "\n",
        "  @classmethod\n",
        "  def getCount(cls):\n",
        "    return cls.count\n",
        "\n",
        "obj1= Person(\"Park\")\n",
        "obj2=Person(\"Kim\")\n",
        "\n",
        "obj1. work(\"abc\")\n",
        "obj2.sleep()\n",
        "\n",
        "print(\"Current obj names are \"+obj1. name+\", \"+obj2.name)\n",
        "print(Person.getCount())"
      ]
    },
    {
      "cell_type": "code",
      "source": [
        "class PrivateMember:\n",
        "  def __init__(self, name1, name2):\n",
        "    self. name1=name1\n",
        "    self.__name2=name2  #private member variable\n",
        "    print(\"initialized with \", name1,\", \",name2)\n",
        "  def getName(self):\n",
        "    self.__printNames()\n",
        "    return self.name1, self.__name2\n",
        "  def __printNames(self):\n",
        "    print(self.name1, self.__name2)\n",
        "\n",
        "obj1=PrivateMember(\"Park\", \"Kim\")\n",
        "\n",
        "print(obj1.name1)\n",
        "print(obj1.getName())\n",
        "print(obj1.__printNames())  #error 클래스 내부에서만 사용할 수 있음\n",
        "print(obj1.__name2())  #error 클래스 내부에서만 사용할 수 있음"
      ],
      "metadata": {
        "colab": {
          "base_uri": "https://localhost:8080/"
        },
        "id": "iyQrjeeg4J2M",
        "outputId": "43653725-dff8-4b6f-d944-3407e70f1525"
      },
      "execution_count": 8,
      "outputs": [
        {
          "output_type": "stream",
          "name": "stdout",
          "text": [
            "initialized with  Park ,  Kim\n",
            "Park\n",
            "Park Kim\n",
            "('Park', 'Kim')\n"
          ]
        }
      ]
    },
    {
      "cell_type": "code",
      "source": [
        "def calc(list_data):\n",
        "  sum=0\n",
        "  try:\n",
        "    sum=list_data[0]+list_data[1]+list_data[2]\n",
        "    if sum<0:\n",
        "      raise Exception(\"sum is minus\")  #해당하는 에러가 발생할 때 메시지 출력\n",
        "  except IndexError as err:\n",
        "    print(str(err))\n",
        "  except Exception as err:\n",
        "    print(str(err))\n",
        "  finally:\n",
        "    print(sum)\n",
        "\n",
        "calc([1,2])\n",
        "calc([1,2,-100])\n"
      ],
      "metadata": {
        "colab": {
          "base_uri": "https://localhost:8080/"
        },
        "id": "iKclXyeg7rkt",
        "outputId": "060a4665-80bc-4b80-ac62-95c11b6dadb4"
      },
      "execution_count": 9,
      "outputs": [
        {
          "output_type": "stream",
          "name": "stdout",
          "text": [
            "list index out of range\n",
            "0\n",
            "sum is minus\n",
            "-97\n"
          ]
        }
      ]
    }
  ]
}